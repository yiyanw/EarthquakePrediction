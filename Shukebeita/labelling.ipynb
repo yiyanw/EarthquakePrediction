{
 "cells": [
  {
   "cell_type": "code",
   "execution_count": 2,
   "metadata": {},
   "outputs": [],
   "source": [
    "import pandas as pd\n",
    "import pylab\n",
    "import matplotlib.pyplot as plt\n",
    "import time\n",
    "from pathlib import Path\n",
    "from sklearn import preprocessing\n",
    "import numpy as np\n",
    "import os"
   ]
  },
  {
   "cell_type": "code",
   "execution_count": 68,
   "metadata": {},
   "outputs": [
    {
     "name": "stdout",
     "output_type": "stream",
     "text": [
      "{19, 24, 26, 29, 32, 33, 35, 36, 38, 39, 41, 43, 47, 48, 51, 55, 59, 73, 75, 77, 78, 82, 84, 87, 88, 90, 91, 93, 94, 96, 98, 99, 101, 105, 106, 107, 109, 40047, 113, 115, 116, 119, 120, 121, 122, 124, 125, 127, 128, 129, 130, 131, 132, 133, 137, 138, 140, 141, 142, 146, 147, 148, 149, 150, 151, 152, 153, 155, 156, 159, 161, 164, 165, 166, 167, 169, 170, 171, 172, 174, 175, 177, 181, 182, 183, 184, 186, 188, 189, 191, 193, 197, 198, 200, 201, 202, 204, 206, 212, 214, 220, 221, 223, 225, 226, 228, 229, 231, 235, 236, 60139, 238, 240, 243, 246, 247, 250, 251, 252, 60157, 254, 255, 256, 60195, 302, 303, 304, 305, 306, 307, 308, 309, 310, 313, 314, 315, 316, 317, 318, 319, 320, 321, 322, 324, 326, 327, 328, 329, 331, 332, 333, 334, 335, 60241, 339, 60251, 352, 355, 50117}\n"
     ]
    }
   ],
   "source": [
    "station_info = pd.read_csv(\"StationInfo.csv\")\n",
    "label_info = pd.read_csv(\"./tag_info/eqlst.csv\")\n",
    "\n",
    "# latitude-, latitude+, longitude-, longitude+\n",
    "_ranges = [[23.0, 26.526666666666667, 98.43, 101.0], [23.0, 26.526666666666667, 101.0, 103.57], [23.0, 26.526666666666667, 103.57, 106.13999999999999], [26.526666666666667, 30.053333333333335, 98.43, 101.0], [26.526666666666667, 30.053333333333335, 101.0, 103.57], [26.526666666666667, 30.053333333333335, 103.57, 106.13999999999999], [30.053333333333335, 33.58, 98.43, 101.0], [30.053333333333335, 33.58, 101.0, 103.57], [30.053333333333335, 33.58, 103.57, 106.13999999999999]]\n",
    "\n",
    "\n",
    "# stations = list(station_info['StationID'])\n",
    "\n",
    "all_stations = set(list(station_info['StationID']))\n",
    "# longitude = list(station_info['Longitude'])\n",
    "print(all_stations)"
   ]
  },
  {
   "cell_type": "code",
   "execution_count": 11,
   "metadata": {},
   "outputs": [
    {
     "name": "stdout",
     "output_type": "stream",
     "text": [
      "{4608, 4612, 4617, 4108, 4630, 4637, 5154, 4657, 4659, 4660, 4661, 2110, 3141, 4682, 76, 3677, 3683, 100, 101, 105, 4718, 115, 4726, 4731, 126, 130, 134, 135, 136, 137, 138, 139, 140, 141, 142, 143, 144, 145, 146, 147, 148, 149, 150, 151, 152, 153, 154, 155, 156, 157, 4760, 159, 4763, 161, 162, 163, 4765, 4767, 166, 167, 168, 4772, 4773, 4775, 4778, 4781, 4270, 3257, 4795, 188, 4287, 2752, 4802, 4296, 4809, 4303, 3285, 4825, 4873, 4874, 4885, 2840, 158, 284, 3365, 160, 3372, 4911, 4742, 4923, 165, 4416, 4419, 2378, 4952, 3928, 4442, 4955, 4444, 348, 4446, 4959, 4448, 4451, 4455, 4457, 4463, 4464, 4465, 4476, 4479, 3971, 4999, 4495, 4504, 4510, 4514, 4516, 4518, 4522, 4525, 5042, 4531, 4537, 4540, 4030, 1989, 4556, 4560, 2513, 5075, 4564, 4566, 4054, 4576, 4068, 4590, 4593}\n"
     ]
    }
   ],
   "source": [
    "file = pd.read_csv(\"./desampled/0_desampled_sound.csv\")\n",
    "\n",
    "file_stations = set(list(file['StationID']))\n",
    "stations = []\n",
    "for station in file_stations:\n",
    "    station = int(station)\n",
    "    stations.append(station)\n",
    "print(set(stations))"
   ]
  },
  {
   "cell_type": "code",
   "execution_count": 13,
   "metadata": {},
   "outputs": [
    {
     "name": "stdout",
     "output_type": "stream",
     "text": [
      "138\n",
      "159\n"
     ]
    }
   ],
   "source": [
    "print(len(set(stations)))\n",
    "print(len(all_stations))"
   ]
  },
  {
   "cell_type": "code",
   "execution_count": 30,
   "metadata": {},
   "outputs": [],
   "source": [
    "# num = 九宫格的格数\n",
    "def split_eqlst(num, _ranges):\n",
    "    earthquakes = pd.read_csv(\"./tag_info/eqlst.csv\")\n",
    "    lst = []\n",
    "    cols = earthquakes.columns\n",
    "    for i in range(num):\n",
    "        block = []\n",
    "        latitude_low = _ranges[i][0]\n",
    "        latitude_high = _ranges[i][1]\n",
    "        longitude_low = _ranges[i][2]\n",
    "        longitude_high = _ranges[i][3]\n",
    "        #print(latitude_low,latitude_high,longitude_low,longitude_high)\n",
    "        for index, row in earthquakes.iterrows():\n",
    "            #print(row)\n",
    "            if longitude_low <= row['Longitude'] <= longitude_high and latitude_low <= row['Latitude'] <= latitude_high:\n",
    "                #print(row['Longitude'],row['Latitude'])\n",
    "                block.append(row)\n",
    "        lst.append(block)\n",
    "    for i in range(len(lst)):\n",
    "        file_name = \"./tag_info/\"+ str(i) + \"_eqlst.csv\"\n",
    "        df = pd.DataFrame(lst[i],columns=cols)\n",
    "        df.to_csv(file_name, index = False, header=True)\n",
    "\n",
    "split_eqlst(9, _ranges)"
   ]
  },
  {
   "cell_type": "code",
   "execution_count": 88,
   "metadata": {},
   "outputs": [
    {
     "name": "stdout",
     "output_type": "stream",
     "text": [
      "{1498977296: 4.1, 1522588213: 3.7, 1534095864: 5.0, 1534096163: 3.5, 1534189836: 5.0, 1536373889: 5.9, 1536374065: 4.1, 1536374158: 4.7, 1539754158: 4.5, 1561382661: 4.7, 1567203894: 3.9, 1572550643: 3.5, 1579088065: 4.2, 1579728383: 3.5, 1586548986: 3.5, 1594175999: 4.2, 1596236033: 3.5}\n",
      "{'2017-07-02': 4.1, '2018-04-01': 3.7, '2018-08-13': 5.0, '2018-08-14': 5.0, '2018-09-08': 5.9, '2018-10-17': 4.5, '2019-06-24': 4.7, '2019-08-31': 3.9, '2019-11-01': 3.5, '2020-01-15': 4.2, '2020-01-23': 3.5, '2020-04-11': 3.5, '2020-07-08': 4.2, '2020-08-01': 3.5}\n",
      "---------------------\n",
      "{'2017-07-01': 4.1, '2017-06-30': 4.1, '2017-06-29': 4.1, '2017-06-28': 4.1, '2018-03-31': 3.7, '2018-03-30': 3.7, '2018-03-29': 3.7, '2018-03-28': 3.7, '2018-08-12': 5.0, '2018-08-11': 5.0, '2018-08-10': 5.0, '2018-08-09': 3.5, '2018-08-13': 5.0, '2018-09-07': 4.7, '2018-09-06': 4.7, '2018-09-05': 4.7, '2018-09-04': 4.7, '2018-10-16': 4.5, '2018-10-15': 4.5, '2018-10-14': 4.5, '2018-10-13': 4.5, '2019-06-23': 4.7, '2019-06-22': 4.7, '2019-06-21': 4.7, '2019-06-20': 4.7, '2019-08-30': 3.9, '2019-08-29': 3.9, '2019-08-28': 3.9, '2019-08-27': 3.9, '2019-10-31': 3.5, '2019-10-30': 3.5, '2019-10-29': 3.5, '2019-10-28': 3.5, '2020-01-14': 4.2, '2020-01-13': 4.2, '2020-01-12': 4.2, '2020-01-11': 4.2, '2020-01-22': 3.5, '2020-01-21': 3.5, '2020-01-20': 3.5, '2020-01-19': 3.5, '2020-04-10': 3.5, '2020-04-09': 3.5, '2020-04-08': 3.5, '2020-04-07': 3.5, '2020-07-07': 4.2, '2020-07-06': 4.2, '2020-07-05': 4.2, '2020-07-04': 4.2, '2020-07-31': 3.5, '2020-07-30': 3.5, '2020-07-29': 3.5, '2020-07-28': 3.5}\n"
     ]
    }
   ],
   "source": [
    "\n",
    "from datetime import datetime\n",
    "import time\n",
    "from datetime import datetime, timedelta\n",
    "\n",
    "def earthquake_dictionary(filename):\n",
    "    data = pd.read_csv(filename)\n",
    "    timestamps = data[\"Timestamp\"]\n",
    "    magnitudes = data[\"Magnitude\"]\n",
    " \n",
    "    dic = {}\n",
    "    for i in range(len(timestamps)):\n",
    "        timestamp = timestamps[i]\n",
    "        magnitude = magnitudes[i]\n",
    "        \n",
    "#         timeArray = time.localtime(timestamp)\n",
    "#         formatedTime = time.strftime(\"%Y-%m-%d %H:%M:%S\", timeArray)\n",
    "#         eqtime = formatedTime[:10]\n",
    "        if timestamp not in dic.keys():\n",
    "            dic[timestamp] = magnitude\n",
    "        else:\n",
    "            if dic[timestamp] < magnitude:\n",
    "                dic[timestamp] = magnitude\n",
    "    return dic\n",
    "\n",
    "### NOT IN USE (TEST ONLY) ###\n",
    "def test_earthquake_dictionary(filename):\n",
    "    data = pd.read_csv(filename)\n",
    "    timestamps = data[\"Timestamp\"]\n",
    "    magnitudes = data[\"Magnitude\"]\n",
    " \n",
    "    dic = {}\n",
    "    for i in range(len(timestamps)):\n",
    "        timestamp = timestamps[i]\n",
    "        magnitude = magnitudes[i]\n",
    "        \n",
    "        timeArray = time.localtime(timestamp)\n",
    "        formatedTime = time.strftime(\"%Y-%m-%d %H:%M:%S\", timeArray)\n",
    "        eqtime = formatedTime[:10]\n",
    "        if eqtime not in dic.keys():\n",
    "            dic[eqtime] = magnitude\n",
    "        else:\n",
    "            if dic[eqtime] < magnitude:\n",
    "                dic[eqtime] = magnitude\n",
    "    return dic\n",
    "\n",
    "def previous_earthquake_dictionary(filename, adv_time):\n",
    "    dic = earthquake_dictionary(filename)\n",
    "    new_dic = {}\n",
    "    for key, item in dic.items():\n",
    "        timeArray = time.localtime(key)\n",
    "        formatedTime = time.strftime(\"%Y-%m-%d %H:%M:%S\", timeArray)\n",
    "        time_datetime = datetime.strptime(formatedTime, '%Y-%m-%d %H:%M:%S')\n",
    "        for i in range(1, adv_time + 1):\n",
    "            previous_time = time_datetime - timedelta(days = i)\n",
    "            new_key = str(previous_time)[:10]\n",
    "            #print(str(new_key))\n",
    "            new_dic[new_key] = item\n",
    "    return new_dic\n",
    "    \n",
    "print(earthquake_dictionary(\"./tag_info/1_eqlst.csv\"))\n",
    "print(test_earthquake_dictionary(\"./tag_info/1_eqlst.csv\"))\n",
    "print(\"---------------------\")\n",
    "print(previous_earthquake_dictionary(\"./tag_info/1_eqlst.csv\",4))"
   ]
  },
  {
   "cell_type": "code",
   "execution_count": 90,
   "metadata": {},
   "outputs": [
    {
     "name": "stderr",
     "output_type": "stream",
     "text": [
      "<ipython-input-90-8c7c641409a1>:26: SettingWithCopyWarning: \n",
      "A value is trying to be set on a copy of a slice from a DataFrame\n",
      "\n",
      "See the caveats in the documentation: https://pandas.pydata.org/pandas-docs/stable/user_guide/indexing.html#returning-a-view-versus-a-copy\n",
      "  data['magnitude'][difference] = magnitude\n"
     ]
    }
   ],
   "source": [
    "# num_hor = 九宫格的横格数\n",
    "# num_ver = 九宫格的纵格数\n",
    "# adv_time = predict time in advance e.g. 7 days\n",
    "def labelling(num_hor, num_ver, adv_time):\n",
    "    num = num_hor * num_ver\n",
    "    for i in range(num):\n",
    "        label_file = \"./tag_info/\" + str(i) + \"_eqlst.csv\"\n",
    "        data_file = \"./desampled/\" + str(i) + \"_desampled_sound.csv\"\n",
    "        if Path(data_file).exists() and Path(label_file).exists():\n",
    "            previous_eqdic = previous_earthquake_dictionary(label_file, adv_time)\n",
    "            data = pd.read_csv(data_file)\n",
    "            data['magnitude'] = 0.0\n",
    "            \n",
    "            standard_date_ = data['date'][0]\n",
    "            standard_date = datetime.strptime(standard_date_, '%Y-%m-%d %H:%M:%S')\n",
    "            \n",
    "            \n",
    "        \n",
    "            for timestamp,magnitude in previous_eqdic.items():\n",
    "                date_ = timestamp + \" 00:00:00\"\n",
    "                #print(date_,standard_date)\n",
    "                date = datetime.strptime(date_, '%Y-%m-%d %H:%M:%S')\n",
    "                #print(data['date'][44])\n",
    "                difference = (date - standard_date).days\n",
    "                if difference >= 0:\n",
    "                    data['magnitude'][difference] = magnitude\n",
    "                #print(standard_date)\n",
    "                \n",
    "                \n",
    "            file_name = \"./tagged/\" + str(i) + \"_tagged.csv\"\n",
    "            data.to_csv(file_name, index = False, header=True)\n",
    "                \n",
    "        \n",
    "        \n",
    "labelling(3,3,7)"
   ]
  },
  {
   "cell_type": "code",
   "execution_count": null,
   "metadata": {},
   "outputs": [],
   "source": []
  }
 ],
 "metadata": {
  "kernelspec": {
   "display_name": "Python 3",
   "language": "python",
   "name": "python3"
  },
  "language_info": {
   "codemirror_mode": {
    "name": "ipython",
    "version": 3
   },
   "file_extension": ".py",
   "mimetype": "text/x-python",
   "name": "python",
   "nbconvert_exporter": "python",
   "pygments_lexer": "ipython3",
   "version": "3.8.3"
  }
 },
 "nbformat": 4,
 "nbformat_minor": 4
}
