{
 "cells": [
  {
   "cell_type": "code",
   "execution_count": 1,
   "metadata": {},
   "outputs": [],
   "source": [
    "import pandas as pd\n",
    "import pylab\n",
    "import matplotlib.pyplot as plt\n",
    "import time\n",
    "from pathlib import Path\n",
    "from sklearn import preprocessing"
   ]
  },
  {
   "cell_type": "code",
   "execution_count": 2,
   "metadata": {},
   "outputs": [],
   "source": [
    "station_info = pd.read_csv(\"StationInfo.csv\")\n",
    "stations = list(station_info['StationID'])\n",
    "latitude = list(station_info['Latitude'])\n",
    "longitude = list(station_info['Longitude'])"
   ]
  },
  {
   "cell_type": "code",
   "execution_count": 3,
   "metadata": {},
   "outputs": [],
   "source": [
    "# a function that takes the latitdue and longtitude, \n",
    "# the division info and the station info\n",
    "# and returns the area division of the stations\n",
    "def area_division(station_lst, latitude_lst, longitude_lst, hor_n, ver_n):\n",
    "    \n",
    "    assert(len(station_lst)==len(latitude_lst))\n",
    "    assert(len(station_lst)==len(longitude_lst))\n",
    "    \n",
    "    min_latitude = min(latitude_lst)\n",
    "    min_longitude = min(longitude_lst)\n",
    "    max_latitude = max(latitude_lst)\n",
    "    max_longitude = max(longitude_lst)\n",
    "    #print(min_latitude, min_longitude, max_latitude, max_longitude)\n",
    "    latitude_chunk = (max_latitude - min_latitude)/ver_n\n",
    "    longitude_chunk = (max_longitude - min_longitude)/hor_n\n",
    "    #print(latitude_chunk, longitude_chunk)\n",
    "    \n",
    "    latitude = min_latitude\n",
    "    longitude = min_longitude\n",
    "    \n",
    "    output_arr = []\n",
    "    for i in range(ver_n):\n",
    "        output_arr.append([])\n",
    "        longitude = min_longitude\n",
    "        for j in range(hor_n):\n",
    "            #print(\"Longitude range: \",longitude, longitude + longitude_chunk)\n",
    "            #print(\"Latitude range: \",latitude, latitude + latitude_chunk)\n",
    "            #print(\"\")\n",
    "            output_arr[i].append([])\n",
    "            for k in range(len(station_lst)):\n",
    "                lat = latitude_lst[k]\n",
    "                lon = longitude_lst[k]\n",
    "                if (lat >= latitude and lat < latitude + latitude_chunk) and (lon >= longitude and lon < longitude + longitude_chunk):\n",
    "                    output_arr[i][j].append(station_lst[k])\n",
    "            longitude = longitude + longitude_chunk\n",
    "        latitude = latitude + latitude_chunk\n",
    "        \n",
    "        \n",
    "        \n",
    "    #print(output_arr)\n",
    "    output_lst = []\n",
    "    for i in range(ver_n):\n",
    "        for j in range(hor_n):\n",
    "            output_lst.append(output_arr[i][j])\n",
    "    #print(output_lst)\n",
    "    return output_lst\n",
    "\n"
   ]
  },
  {
   "cell_type": "code",
   "execution_count": 4,
   "metadata": {},
   "outputs": [
    {
     "name": "stdout",
     "output_type": "stream",
     "text": [
      "[[36, 51, 113, 137, 138, 140, 152, 161, 171, 186, 220, 226, 306, 60157], [24, 29, 106, 142, 146, 155, 156, 327, 332, 50117], [], [55, 82, 119, 131, 164, 165, 174, 175, 206, 231, 243, 303, 308, 313, 318, 60139], [32, 33, 35, 38, 39, 41, 73, 78, 87, 94, 96, 101, 105, 109, 130, 132, 149, 151, 153, 177, 181, 193, 200, 223, 225, 229, 247, 255, 256, 302, 307, 309, 314, 315, 316, 320, 329, 40047, 60195, 60251], [47, 48, 75, 77, 84, 120, 147, 148, 240, 254, 304, 305, 317, 319, 321, 322, 324, 326, 328, 331, 333, 334, 335, 339, 352, 355], [59, 122, 127, 133, 246], [26, 88, 93, 98, 107, 124, 125, 128, 159, 170, 182, 184, 201, 221, 236, 250, 310], [19, 43, 90, 91, 99, 115, 116, 121, 129, 141, 150, 166, 167, 169, 172, 183, 188, 189, 191, 197, 198, 202, 204, 212, 214, 228, 235, 238, 60241]]\n"
     ]
    }
   ],
   "source": [
    "# print divided area by 3*3\n",
    "areas = area_division(stations, latitude, longitude, 3, 3)\n",
    "print(areas)"
   ]
  },
  {
   "cell_type": "code",
   "execution_count": 5,
   "metadata": {},
   "outputs": [],
   "source": [
    "# A function that normalize all the features by min-max in a \n",
    "# particular file\n",
    "# file_name: the name of the file that needs to be normalized\n",
    "# attribute_type: string, \"magn\" or \"sound\"\n",
    "# station_group: an integer indicating the station area group\n",
    "def normalize_file(file_name, attribute_type, station_group):\n",
    "    #file_name = \"./training/\" + attribute_type + \"/\" + str(station_id) + \"_\" + attribute_type +\".csv\"\n",
    "    data = pd.read_csv(file_name)\n",
    "    \n",
    "    for column in data.columns:\n",
    "        if column != \"StationID\" and column != \"TimeStamp\":\n",
    "            \n",
    "            x = data[[column]].values.astype(float)\n",
    "            min_max_scaler = preprocessing.MinMaxScaler()\n",
    "            x_scaled = min_max_scaler.fit_transform(x)\n",
    "            column_normalized = pd.DataFrame(x_scaled)\n",
    "            \n",
    "            \n",
    "            x = df.values #returns a numpy array\n",
    "min_max_scaler = preprocessing.MinMaxScaler()\n",
    "x_scaled = min_max_scaler.fit_transform(x)\n",
    "df = pd.DataFrame(x_scaled)\n",
    "          \n",
    "            \n",
    "            data[column] = column_normalized\n",
    "    data.to_csv(\"./training/\" + attribute_type + \"/normalized/\" + str(station_group) + \"_normalized_\" + attribute_type + \".csv\", index = False, header=True)\n",
    "\n",
    "#normalized(\"./training/magn/36_magn.csv\", \"magn\",0)"
   ]
  },
  {
   "cell_type": "code",
   "execution_count": 13,
   "metadata": {},
   "outputs": [],
   "source": [
    "\n",
    "# merge data by area\n",
    "# stations: 2d array, stations grouped by area\n",
    "# attribute_type: string, \"magn\" or \"sound\"\n",
    "def merge_data(stations, attribute_type):\n",
    "    \n",
    "    for i in range(len(stations)):\n",
    "        group = stations[i]\n",
    "        dfs = []\n",
    "\n",
    "        for station in group:\n",
    "            file_name = \"./training/\"  + attribute_type + \"/normalized/\" + str(station) + \"_normalized_\" + attribute_type +\".csv\"\n",
    "            #print(file_name)\n",
    "            if Path(file_name).exists():\n",
    "                data = pd.read_csv(file_name)\n",
    "                dfs.append(data)\n",
    "                \n",
    "        #print(dfs)\n",
    "        if group is not None and len(group)>0:\n",
    "            merged_data = pd.concat(dfs)\n",
    "            merged_data = merged_data.sort_values(by='TimeStamp', ascending=True)\n",
    "            # You need a \"merged\" file under \"magn\" or \"sound\" file\n",
    "            merged_data.to_csv(\"./training/\" + attribute_type + \"/\" + \"merged/\" + str(i) + \"_merged_\" + attribute_type + \".csv\", index = False, header=True)\n",
    "        \n",
    "# merge_data(areas, \"magn\")"
   ]
  },
  {
   "cell_type": "code",
   "execution_count": null,
   "metadata": {},
   "outputs": [],
   "source": []
  },
  {
   "cell_type": "code",
   "execution_count": null,
   "metadata": {},
   "outputs": [],
   "source": []
  },
  {
   "cell_type": "code",
   "execution_count": 8,
   "metadata": {},
   "outputs": [
    {
     "ename": "KeyboardInterrupt",
     "evalue": "",
     "output_type": "error",
     "traceback": [
      "\u001b[0;31m---------------------------------------------------------------------------\u001b[0m",
      "\u001b[0;31mKeyboardInterrupt\u001b[0m                         Traceback (most recent call last)",
      "\u001b[0;32m<ipython-input-8-68d6f4b25342>\u001b[0m in \u001b[0;36m<module>\u001b[0;34m\u001b[0m\n\u001b[1;32m      7\u001b[0m             \u001b[0mfile_name\u001b[0m \u001b[0;34m=\u001b[0m \u001b[0;34m\"./training/\"\u001b[0m \u001b[0;34m+\u001b[0m \u001b[0mattribute_type\u001b[0m \u001b[0;34m+\u001b[0m \u001b[0;34m\"/\"\u001b[0m \u001b[0;34m+\u001b[0m \u001b[0mstr\u001b[0m\u001b[0;34m(\u001b[0m\u001b[0mstation\u001b[0m\u001b[0;34m)\u001b[0m \u001b[0;34m+\u001b[0m \u001b[0;34m\"_\"\u001b[0m \u001b[0;34m+\u001b[0m \u001b[0mattribute_type\u001b[0m \u001b[0;34m+\u001b[0m\u001b[0;34m\".csv\"\u001b[0m\u001b[0;34m\u001b[0m\u001b[0;34m\u001b[0m\u001b[0m\n\u001b[1;32m      8\u001b[0m             \u001b[0;32mif\u001b[0m \u001b[0mPath\u001b[0m\u001b[0;34m(\u001b[0m\u001b[0mfile_name\u001b[0m\u001b[0;34m)\u001b[0m\u001b[0;34m.\u001b[0m\u001b[0mexists\u001b[0m\u001b[0;34m(\u001b[0m\u001b[0;34m)\u001b[0m\u001b[0;34m:\u001b[0m\u001b[0;34m\u001b[0m\u001b[0;34m\u001b[0m\u001b[0m\n\u001b[0;32m----> 9\u001b[0;31m                 \u001b[0mnormalize_file\u001b[0m\u001b[0;34m(\u001b[0m\u001b[0mfile_name\u001b[0m\u001b[0;34m,\u001b[0m \u001b[0;34m\"magn\"\u001b[0m\u001b[0;34m,\u001b[0m \u001b[0mstation\u001b[0m\u001b[0;34m)\u001b[0m\u001b[0;34m\u001b[0m\u001b[0;34m\u001b[0m\u001b[0m\n\u001b[0m\u001b[1;32m     10\u001b[0m \u001b[0;34m\u001b[0m\u001b[0m\n\u001b[1;32m     11\u001b[0m \u001b[0;34m\u001b[0m\u001b[0m\n",
      "\u001b[0;32m<ipython-input-5-a121bee02928>\u001b[0m in \u001b[0;36mnormalize_file\u001b[0;34m(file_name, attribute_type, station_group)\u001b[0m\n\u001b[1;32m     19\u001b[0m \u001b[0;34m\u001b[0m\u001b[0m\n\u001b[1;32m     20\u001b[0m             \u001b[0mdata\u001b[0m\u001b[0;34m[\u001b[0m\u001b[0mcolumn\u001b[0m\u001b[0;34m]\u001b[0m \u001b[0;34m=\u001b[0m \u001b[0mcolumn_normalized\u001b[0m\u001b[0;34m\u001b[0m\u001b[0;34m\u001b[0m\u001b[0m\n\u001b[0;32m---> 21\u001b[0;31m     \u001b[0mdata\u001b[0m\u001b[0;34m.\u001b[0m\u001b[0mto_csv\u001b[0m\u001b[0;34m(\u001b[0m\u001b[0;34m\"./training/\"\u001b[0m \u001b[0;34m+\u001b[0m \u001b[0mattribute_type\u001b[0m \u001b[0;34m+\u001b[0m \u001b[0;34m\"/normalized/\"\u001b[0m \u001b[0;34m+\u001b[0m \u001b[0mstr\u001b[0m\u001b[0;34m(\u001b[0m\u001b[0mstation_group\u001b[0m\u001b[0;34m)\u001b[0m \u001b[0;34m+\u001b[0m \u001b[0;34m\"_normalized_\"\u001b[0m \u001b[0;34m+\u001b[0m \u001b[0mattribute_type\u001b[0m \u001b[0;34m+\u001b[0m \u001b[0;34m\".csv\"\u001b[0m\u001b[0;34m,\u001b[0m \u001b[0mindex\u001b[0m \u001b[0;34m=\u001b[0m \u001b[0;32mFalse\u001b[0m\u001b[0;34m,\u001b[0m \u001b[0mheader\u001b[0m\u001b[0;34m=\u001b[0m\u001b[0;32mTrue\u001b[0m\u001b[0;34m)\u001b[0m\u001b[0;34m\u001b[0m\u001b[0;34m\u001b[0m\u001b[0m\n\u001b[0m\u001b[1;32m     22\u001b[0m \u001b[0;34m\u001b[0m\u001b[0m\n\u001b[1;32m     23\u001b[0m \u001b[0;31m#normalized(\"./training/magn/36_magn.csv\", \"magn\",0)\u001b[0m\u001b[0;34m\u001b[0m\u001b[0;34m\u001b[0m\u001b[0;34m\u001b[0m\u001b[0m\n",
      "\u001b[0;32m~/opt/anaconda3/lib/python3.8/site-packages/pandas/core/generic.py\u001b[0m in \u001b[0;36mto_csv\u001b[0;34m(self, path_or_buf, sep, na_rep, float_format, columns, header, index, index_label, mode, encoding, compression, quoting, quotechar, line_terminator, chunksize, date_format, doublequote, escapechar, decimal)\u001b[0m\n\u001b[1;32m   3202\u001b[0m             \u001b[0mdecimal\u001b[0m\u001b[0;34m=\u001b[0m\u001b[0mdecimal\u001b[0m\u001b[0;34m,\u001b[0m\u001b[0;34m\u001b[0m\u001b[0;34m\u001b[0m\u001b[0m\n\u001b[1;32m   3203\u001b[0m         )\n\u001b[0;32m-> 3204\u001b[0;31m         \u001b[0mformatter\u001b[0m\u001b[0;34m.\u001b[0m\u001b[0msave\u001b[0m\u001b[0;34m(\u001b[0m\u001b[0;34m)\u001b[0m\u001b[0;34m\u001b[0m\u001b[0;34m\u001b[0m\u001b[0m\n\u001b[0m\u001b[1;32m   3205\u001b[0m \u001b[0;34m\u001b[0m\u001b[0m\n\u001b[1;32m   3206\u001b[0m         \u001b[0;32mif\u001b[0m \u001b[0mpath_or_buf\u001b[0m \u001b[0;32mis\u001b[0m \u001b[0;32mNone\u001b[0m\u001b[0;34m:\u001b[0m\u001b[0;34m\u001b[0m\u001b[0;34m\u001b[0m\u001b[0m\n",
      "\u001b[0;32m~/opt/anaconda3/lib/python3.8/site-packages/pandas/io/formats/csvs.py\u001b[0m in \u001b[0;36msave\u001b[0;34m(self)\u001b[0m\n\u001b[1;32m    202\u001b[0m             )\n\u001b[1;32m    203\u001b[0m \u001b[0;34m\u001b[0m\u001b[0m\n\u001b[0;32m--> 204\u001b[0;31m             \u001b[0mself\u001b[0m\u001b[0;34m.\u001b[0m\u001b[0m_save\u001b[0m\u001b[0;34m(\u001b[0m\u001b[0;34m)\u001b[0m\u001b[0;34m\u001b[0m\u001b[0;34m\u001b[0m\u001b[0m\n\u001b[0m\u001b[1;32m    205\u001b[0m \u001b[0;34m\u001b[0m\u001b[0m\n\u001b[1;32m    206\u001b[0m         \u001b[0;32mfinally\u001b[0m\u001b[0;34m:\u001b[0m\u001b[0;34m\u001b[0m\u001b[0;34m\u001b[0m\u001b[0m\n",
      "\u001b[0;32m~/opt/anaconda3/lib/python3.8/site-packages/pandas/io/formats/csvs.py\u001b[0m in \u001b[0;36m_save\u001b[0;34m(self)\u001b[0m\n\u001b[1;32m    323\u001b[0m                 \u001b[0;32mbreak\u001b[0m\u001b[0;34m\u001b[0m\u001b[0;34m\u001b[0m\u001b[0m\n\u001b[1;32m    324\u001b[0m \u001b[0;34m\u001b[0m\u001b[0m\n\u001b[0;32m--> 325\u001b[0;31m             \u001b[0mself\u001b[0m\u001b[0;34m.\u001b[0m\u001b[0m_save_chunk\u001b[0m\u001b[0;34m(\u001b[0m\u001b[0mstart_i\u001b[0m\u001b[0;34m,\u001b[0m \u001b[0mend_i\u001b[0m\u001b[0;34m)\u001b[0m\u001b[0;34m\u001b[0m\u001b[0;34m\u001b[0m\u001b[0m\n\u001b[0m\u001b[1;32m    326\u001b[0m \u001b[0;34m\u001b[0m\u001b[0m\n\u001b[1;32m    327\u001b[0m     \u001b[0;32mdef\u001b[0m \u001b[0m_save_chunk\u001b[0m\u001b[0;34m(\u001b[0m\u001b[0mself\u001b[0m\u001b[0;34m,\u001b[0m \u001b[0mstart_i\u001b[0m\u001b[0;34m:\u001b[0m \u001b[0mint\u001b[0m\u001b[0;34m,\u001b[0m \u001b[0mend_i\u001b[0m\u001b[0;34m:\u001b[0m \u001b[0mint\u001b[0m\u001b[0;34m)\u001b[0m \u001b[0;34m->\u001b[0m \u001b[0;32mNone\u001b[0m\u001b[0;34m:\u001b[0m\u001b[0;34m\u001b[0m\u001b[0;34m\u001b[0m\u001b[0m\n",
      "\u001b[0;32m~/opt/anaconda3/lib/python3.8/site-packages/pandas/io/formats/csvs.py\u001b[0m in \u001b[0;36m_save_chunk\u001b[0;34m(self, start_i, end_i)\u001b[0m\n\u001b[1;32m    332\u001b[0m         \u001b[0;32mfor\u001b[0m \u001b[0mi\u001b[0m \u001b[0;32min\u001b[0m \u001b[0mrange\u001b[0m\u001b[0;34m(\u001b[0m\u001b[0mlen\u001b[0m\u001b[0;34m(\u001b[0m\u001b[0mself\u001b[0m\u001b[0;34m.\u001b[0m\u001b[0mblocks\u001b[0m\u001b[0;34m)\u001b[0m\u001b[0;34m)\u001b[0m\u001b[0;34m:\u001b[0m\u001b[0;34m\u001b[0m\u001b[0;34m\u001b[0m\u001b[0m\n\u001b[1;32m    333\u001b[0m             \u001b[0mb\u001b[0m \u001b[0;34m=\u001b[0m \u001b[0mself\u001b[0m\u001b[0;34m.\u001b[0m\u001b[0mblocks\u001b[0m\u001b[0;34m[\u001b[0m\u001b[0mi\u001b[0m\u001b[0;34m]\u001b[0m\u001b[0;34m\u001b[0m\u001b[0;34m\u001b[0m\u001b[0m\n\u001b[0;32m--> 334\u001b[0;31m             d = b.to_native_types(\n\u001b[0m\u001b[1;32m    335\u001b[0m                 \u001b[0mslicer\u001b[0m\u001b[0;34m=\u001b[0m\u001b[0mslicer\u001b[0m\u001b[0;34m,\u001b[0m\u001b[0;34m\u001b[0m\u001b[0;34m\u001b[0m\u001b[0m\n\u001b[1;32m    336\u001b[0m                 \u001b[0mna_rep\u001b[0m\u001b[0;34m=\u001b[0m\u001b[0mself\u001b[0m\u001b[0;34m.\u001b[0m\u001b[0mna_rep\u001b[0m\u001b[0;34m,\u001b[0m\u001b[0;34m\u001b[0m\u001b[0;34m\u001b[0m\u001b[0m\n",
      "\u001b[0;32m~/opt/anaconda3/lib/python3.8/site-packages/pandas/core/internals/blocks.py\u001b[0m in \u001b[0;36mto_native_types\u001b[0;34m(self, slicer, na_rep, float_format, decimal, quoting, **kwargs)\u001b[0m\n\u001b[1;32m   2071\u001b[0m \u001b[0;34m\u001b[0m\u001b[0m\n\u001b[1;32m   2072\u001b[0m             \u001b[0;32mif\u001b[0m \u001b[0;32mnot\u001b[0m \u001b[0mquoting\u001b[0m\u001b[0;34m:\u001b[0m\u001b[0;34m\u001b[0m\u001b[0;34m\u001b[0m\u001b[0m\n\u001b[0;32m-> 2073\u001b[0;31m                 \u001b[0mvalues\u001b[0m \u001b[0;34m=\u001b[0m \u001b[0mvalues\u001b[0m\u001b[0;34m.\u001b[0m\u001b[0mastype\u001b[0m\u001b[0;34m(\u001b[0m\u001b[0mstr\u001b[0m\u001b[0;34m)\u001b[0m\u001b[0;34m\u001b[0m\u001b[0;34m\u001b[0m\u001b[0m\n\u001b[0m\u001b[1;32m   2074\u001b[0m             \u001b[0;32melse\u001b[0m\u001b[0;34m:\u001b[0m\u001b[0;34m\u001b[0m\u001b[0;34m\u001b[0m\u001b[0m\n\u001b[1;32m   2075\u001b[0m                 \u001b[0mvalues\u001b[0m \u001b[0;34m=\u001b[0m \u001b[0mnp\u001b[0m\u001b[0;34m.\u001b[0m\u001b[0marray\u001b[0m\u001b[0;34m(\u001b[0m\u001b[0mvalues\u001b[0m\u001b[0;34m,\u001b[0m \u001b[0mdtype\u001b[0m\u001b[0;34m=\u001b[0m\u001b[0;34m\"object\"\u001b[0m\u001b[0;34m)\u001b[0m\u001b[0;34m\u001b[0m\u001b[0;34m\u001b[0m\u001b[0m\n",
      "\u001b[0;31mKeyboardInterrupt\u001b[0m: "
     ]
    }
   ],
   "source": [
    "# Normalize all the original magn files to \"./training/magn/normalized\" file\n",
    "attribute_type = \"magn\"\n",
    "for i in range(len(areas)):\n",
    "    group = areas[i]\n",
    "    if group is not None and len(group)>0:\n",
    "        for station in group:\n",
    "            file_name = \"./training/\" + attribute_type + \"/\" + str(station) + \"_\" + attribute_type +\".csv\"\n",
    "            if Path(file_name).exists():\n",
    "                normalize_file(file_name, \"magn\", station)\n",
    "                \n",
    "            "
   ]
  },
  {
   "cell_type": "code",
   "execution_count": 8,
   "metadata": {},
   "outputs": [],
   "source": [
    "merge_data(areas, \"magn\")"
   ]
  },
  {
   "cell_type": "code",
   "execution_count": 10,
   "metadata": {},
   "outputs": [],
   "source": [
    "# Normalize all the original magn files to \"./training/magn/normalized\" file\n",
    "attribute_type = \"sound\"\n",
    "for i in range(len(areas)):\n",
    "    group = areas[i]\n",
    "    if group is not None and len(group)>0:\n",
    "        for station in group:\n",
    "            file_name = \"./training/\" + attribute_type + \"/\" + str(station) + \"_\" + attribute_type +\".csv\"\n",
    "            if Path(file_name).exists():\n",
    "                normalize_file(file_name, \"sound\", station)"
   ]
  },
  {
   "cell_type": "code",
   "execution_count": 14,
   "metadata": {},
   "outputs": [],
   "source": [
    "merge_data(areas, \"sound\")"
   ]
  },
  {
   "cell_type": "code",
   "execution_count": null,
   "metadata": {},
   "outputs": [],
   "source": []
  },
  {
   "cell_type": "code",
   "execution_count": null,
   "metadata": {},
   "outputs": [],
   "source": []
  },
  {
   "cell_type": "code",
   "execution_count": null,
   "metadata": {},
   "outputs": [],
   "source": []
  },
  {
   "cell_type": "code",
   "execution_count": null,
   "metadata": {},
   "outputs": [],
   "source": []
  },
  {
   "cell_type": "code",
   "execution_count": null,
   "metadata": {},
   "outputs": [],
   "source": []
  },
  {
   "cell_type": "code",
   "execution_count": null,
   "metadata": {},
   "outputs": [],
   "source": []
  },
  {
   "cell_type": "code",
   "execution_count": null,
   "metadata": {},
   "outputs": [],
   "source": []
  },
  {
   "cell_type": "code",
   "execution_count": null,
   "metadata": {},
   "outputs": [],
   "source": []
  },
  {
   "cell_type": "code",
   "execution_count": null,
   "metadata": {},
   "outputs": [],
   "source": []
  },
  {
   "cell_type": "code",
   "execution_count": null,
   "metadata": {},
   "outputs": [],
   "source": []
  },
  {
   "cell_type": "code",
   "execution_count": null,
   "metadata": {},
   "outputs": [],
   "source": [
    "########### DRAW PICTURES #############"
   ]
  },
  {
   "cell_type": "code",
   "execution_count": 9,
   "metadata": {},
   "outputs": [
    {
     "data": {
      "image/png": "[encoded data removed]",
      "text/plain": [
       "<Figure size 864x864 with 1 Axes>"
      ]
     },
     "metadata": {
      "needs_background": "light"
     },
     "output_type": "display_data"
    }
   ],
   "source": [
    "magn_19 = pd.read_csv(\"./training/magn/19_magn.csv\")\n",
    "column = \"magn@var\"\n",
    "feature = magn_19[[column]]\n",
    "feature = feature.reset_index()\n",
    "feature.columns = ['index',column]\n",
    "x = feature['index']\n",
    "y = feature[column]\n",
    "plt.figure(figsize=(12,12)) #创建绘图对象\n",
    "plt.plot(x,y)   \n",
    "plt.xlabel(\"Time\") #X轴标签\n",
    "plt.ylabel(column)  #Y轴标签\n",
    "plt.show()"
   ]
  },
  {
   "cell_type": "code",
   "execution_count": null,
   "metadata": {},
   "outputs": [],
   "source": [
    "# Draw pictures of the feature\n",
    "def draw_pic(feature_, area_number, attribute_type):\n",
    "    file_name = \"./training/\" + attribute_type + \"/merged/\" + str(area_number) + \"_merged_\" + attribute_type + \".csv\"\n",
    "    data = pd.read_csv(file_name)\n",
    "    \n",
    "    #feature = magn_19[[feature_]]\n",
    "    \n",
    "    ### X axis: index\n",
    "#     feature = feature.reset_index()\n",
    "#     feature.columns = ['index',column]\n",
    "#     x = feature['index']\n",
    "#     y = feature[column]\n",
    "#     plt.figure(figsize=(12,12)) #创建绘图对象\n",
    "#     plt.plot(x,y)   \n",
    "#     plt.xlabel(\"Time\") #X轴标签\n",
    "#     plt.ylabel(column)  #Y轴标签\n",
    "#     plt.show()\n",
    "    plt.plot(feature['TimeStamp'], data[feature_])\n",
    "    plt.xlabel(\"TimeStamp\") #X轴标签\n",
    "    plt.ylabel(feature_)  #Y轴标签\n",
    "    \n",
    "draw_pic(\"magn@var\", 0, \"magn\")"
   ]
  },
  {
   "cell_type": "code",
   "execution_count": null,
   "metadata": {},
   "outputs": [],
   "source": []
  },
  {
   "cell_type": "code",
   "execution_count": null,
   "metadata": {},
   "outputs": [],
   "source": []
  },
  {
   "cell_type": "code",
   "execution_count": null,
   "metadata": {},
   "outputs": [],
   "source": []
  },
  {
   "cell_type": "code",
   "execution_count": null,
   "metadata": {},
   "outputs": [],
   "source": []
  },
  {
   "cell_type": "code",
   "execution_count": null,
   "metadata": {},
   "outputs": [],
   "source": []
  },
  {
   "cell_type": "code",
   "execution_count": 57,
   "metadata": {},
   "outputs": [
    {
     "name": "stdout",
     "output_type": "stream",
     "text": [
      "        StationID   TimeStamp  magn@var  magn@power  magn@skew  magn@kurt  \\\n",
      "0              36  1528258200  0.021921    0.892192   0.005143  -1.403910   \n",
      "1              36  1528258800  0.021923    0.892293   0.007506  -1.379777   \n",
      "2              36  1528259400  0.021587    0.878673   0.006596  -1.367440   \n",
      "3              36  1528260000  0.021140    0.860474   0.006796  -1.405155   \n",
      "4              36  1528260600  0.021675    0.882263   0.009643  -1.449690   \n",
      "...           ...         ...       ...         ...        ...        ...   \n",
      "101063         36  1606749000  0.000516    0.021933  -0.434881  -0.893527   \n",
      "101064         36  1606749600  0.000493    0.020994  -0.432452  -0.783762   \n",
      "101065         36  1606750200  0.000507    0.021556  -0.445749  -0.933391   \n",
      "101066         36  1606750800  0.000491    0.020931  -0.444884  -1.045843   \n",
      "101067         36  1606751400  0.000480    0.020449  -0.463154  -1.108705   \n",
      "\n",
      "        magn@abs_max  magn@abs_mean  magn@abs_max_top5p  magn@abs_max_top10p  \\\n",
      "0           1.613485       0.867655            1.442105             1.248975   \n",
      "1           1.626427       0.867681            1.467293             1.251287   \n",
      "2           1.607295       0.861379            1.473045             1.238660   \n",
      "3           1.580110       0.851633            1.431040             1.211290   \n",
      "4           1.581923       0.868200            1.438040             1.215910   \n",
      "...              ...            ...                 ...                  ...   \n",
      "101063      0.239670       0.124361            0.205844             0.163355   \n",
      "101064      0.243045       0.119475            0.205281             0.167368   \n",
      "101065      0.236370       0.124615            0.204381             0.159830   \n",
      "101066      0.230220       0.124381            0.199543             0.151917   \n",
      "101067      0.218857       0.123516            0.187506             0.149855   \n",
      "\n",
      "        ...  magn@ulf_abs_mean  magn@ulf_var  magn@ulf_power  magn@ulf_skew  \\\n",
      "0       ...           0.009304  6.453395e-06        0.000093      -0.019726   \n",
      "1       ...           0.010138  2.896595e-05        0.000126      -0.485995   \n",
      "2       ...           0.010679  6.433120e-06        0.000120       0.123959   \n",
      "3       ...           0.011071  6.229700e-06        0.000129       0.066734   \n",
      "4       ...           0.011445  5.018633e-06        0.000136       0.019657   \n",
      "...     ...                ...           ...             ...            ...   \n",
      "101063  ...           0.006890  7.468593e-07        0.000048      -0.067925   \n",
      "101064  ...           0.006873  5.742491e-07        0.000048      -0.057716   \n",
      "101065  ...           0.006819  5.751346e-07        0.000047      -0.022591   \n",
      "101066  ...           0.006804  5.667959e-07        0.000047      -0.132092   \n",
      "101067  ...           0.006787  4.185386e-07        0.000046      -0.135287   \n",
      "\n",
      "        magn@ulf_kurt  magn@ulf_abs_max  magn@ulf_abs_max_top5p  \\\n",
      "0            1.418828          0.007776               -0.005236   \n",
      "1           19.326587          0.028033               -0.005601   \n",
      "2            8.198710          0.017037               -0.006781   \n",
      "3            0.857720          0.002843               -0.007072   \n",
      "4            0.692591          0.000422               -0.007790   \n",
      "...               ...               ...                     ...   \n",
      "101063       1.472878         -0.001869               -0.005517   \n",
      "101064       0.898972         -0.002714               -0.005662   \n",
      "101065       3.930457         -0.001388               -0.005643   \n",
      "101066       3.185528         -0.001732               -0.005672   \n",
      "101067      18.476747         -0.000419               -0.005781   \n",
      "\n",
      "        magn@ulf_abs_max_top10p  magn@ulf_energy_sstd  magn@ulf_energy_smax  \n",
      "0                     -0.006158              0.000005              0.000048  \n",
      "1                     -0.006648              0.000069              0.000635  \n",
      "2                     -0.007673              0.000006              0.000066  \n",
      "3                     -0.008000              0.000006              0.000067  \n",
      "4                     -0.008674              0.000006              0.000069  \n",
      "...                         ...                   ...                   ...  \n",
      "101063                -0.005857              0.000001              0.000023  \n",
      "101064                -0.005944              0.000001              0.000023  \n",
      "101065                -0.005937              0.000001              0.000022  \n",
      "101066                -0.005962              0.000001              0.000022  \n",
      "101067                -0.006024              0.000001              0.000023  \n",
      "\n",
      "[101068 rows x 53 columns]\n"
     ]
    }
   ],
   "source": [
    "import pandas as pd\n",
    "from sklearn import preprocessing\n",
    "\n",
    "temp = pd.read_csv(\"./training/magn/36_magn.csv\")\n",
    "x = temp[['magn@var']].values.astype(float)\n",
    "min_max_scaler = preprocessing.MinMaxScaler()\n",
    "x_scaled = min_max_scaler.fit_transform(x)\n",
    "df_normalized = pd.DataFrame(x_scaled)\n",
    "temp['magn@var'] = df_normalized\n",
    "print(temp)"
   ]
  },
  {
   "cell_type": "code",
   "execution_count": 33,
   "metadata": {},
   "outputs": [
    {
     "name": "stdout",
     "output_type": "stream",
     "text": [
      "(101068, 53) (195583, 53)\n",
      "(296651, 53)\n"
     ]
    }
   ],
   "source": [
    "a = pd.read_csv(\"./training/magn/36_magn.csv\")\n",
    "b = pd.read_csv(\"./training/magn/51_magn.csv\")\n",
    "print(a.shape, b.shape)\n",
    "a_b = pd.concat([a,b])\n",
    "print(a_b.shape)"
   ]
  },
  {
   "cell_type": "code",
   "execution_count": 31,
   "metadata": {},
   "outputs": [
    {
     "name": "stdout",
     "output_type": "stream",
     "text": [
      "2018-06-06 14:10:00\n",
      "2017-01-25 19:00:00\n",
      "2017-12-19 20:00:00\n"
     ]
    }
   ],
   "source": [
    "temp = pd.read_csv(\"./training/magn/36_magn.csv\")\n",
    "n = list(temp['TimeStamp'])[0]\n",
    "time_local = time.localtime(n)\n",
    "dt = time.strftime(\"%Y-%m-%d %H:%M:%S\",time_local)\n",
    "print(dt)"
   ]
  },
  {
   "cell_type": "code",
   "execution_count": 54,
   "metadata": {},
   "outputs": [
    {
     "name": "stdout",
     "output_type": "stream",
     "text": [
      "        StationID   TimeStamp    magn@var  magn@power  magn@skew  magn@kurt  \\\n",
      "167786         19  1595265000    0.019992    0.020166  -0.042052  -1.062664   \n",
      "167785         19  1595264400    0.021583    0.021756  -0.020336  -1.294264   \n",
      "182029         19  1603810800    0.022893    0.023044  -0.052239  -1.406277   \n",
      "167784         19  1595263800    0.023112    0.023285  -0.018827  -1.260755   \n",
      "167783         19  1595263200    0.023222    0.023396  -0.035570  -1.051072   \n",
      "...           ...         ...         ...         ...        ...        ...   \n",
      "82505          19  1535987400  109.121000  109.329000  -0.078994  -1.787573   \n",
      "10406          19  1489725600  109.237000  109.256000  -0.027515  -1.786110   \n",
      "82479          19  1535971800  109.386333  109.399667  -0.020842  -1.798963   \n",
      "10228          19  1489618800  109.539000  109.643000  -0.059601  -1.780590   \n",
      "10410          19  1489728000  110.174000  110.212000  -0.035200  -1.781930   \n",
      "\n",
      "        magn@abs_max  magn@abs_mean  magn@abs_max_top5p  magn@abs_max_top10p  \\\n",
      "167786      0.288309       0.122648            0.211094             0.183043   \n",
      "167785      0.262133       0.131992            0.210382             0.187618   \n",
      "182029      0.267908       0.138043            0.206669             0.180793   \n",
      "167784      0.273458       0.135498            0.218482             0.195081   \n",
      "167783      0.307509       0.132033            0.230520             0.205094   \n",
      "...              ...            ...                 ...                  ...   \n",
      "82505      12.288000       9.881990           12.135600            11.978000   \n",
      "10406      12.288000       9.864880           12.116600            11.976400   \n",
      "82479      12.288000       9.868213           12.122600            11.952600   \n",
      "10228      12.288000       9.858560           12.190500            12.054000   \n",
      "10410      12.288000       9.855460           12.188600            12.076500   \n",
      "\n",
      "        ...  magn@ulf_abs_mean  magn@ulf_var  magn@ulf_power  magn@ulf_skew  \\\n",
      "167786  ...           0.013170      0.000017        0.000190      -0.188079   \n",
      "167785  ...           0.013172      0.000016        0.000189       0.057438   \n",
      "182029  ...           0.012309      0.000016        0.000168       0.086130   \n",
      "167784  ...           0.013174      0.000016        0.000189       0.076907   \n",
      "167783  ...           0.013191      0.000016        0.000190       0.049248   \n",
      "...     ...                ...           ...             ...            ...   \n",
      "82505   ...           0.571097      1.662180        1.873123       2.663270   \n",
      "10406   ...           0.347272      0.706797        0.725951       1.912030   \n",
      "82479   ...           0.350336      0.722245        0.736397       1.599977   \n",
      "10228   ...           0.472386      1.223770        1.327420       1.800040   \n",
      "10410   ...           0.449017      0.894476        0.933601       1.144220   \n",
      "\n",
      "        magn@ulf_kurt  magn@ulf_abs_max  magn@ulf_abs_max_top5p  \\\n",
      "167786       7.568055          0.010753               -0.006705   \n",
      "167785      -0.864969         -0.001281               -0.006846   \n",
      "182029      -0.728149          0.003655               -0.005842   \n",
      "167784      -0.615876          0.003344               -0.006804   \n",
      "167783      -0.688175          0.001263               -0.006820   \n",
      "...               ...               ...                     ...   \n",
      "82505        7.610477          8.564660                3.335010   \n",
      "10406        7.603410          5.740560                2.387500   \n",
      "82479        8.550287          6.071897                2.312203   \n",
      "10228        5.551570          5.927610                2.506180   \n",
      "10410        3.491140          5.360480                2.410110   \n",
      "\n",
      "        magn@ulf_abs_max_top10p  magn@ulf_energy_sstd  magn@ulf_energy_smax  \n",
      "167786                -0.007824              0.000008              0.000108  \n",
      "167785                -0.007919              0.000007              0.000091  \n",
      "182029                -0.006942              0.000004              0.000079  \n",
      "167784                -0.007881              0.000006              0.000091  \n",
      "167783                -0.007898              0.000007              0.000092  \n",
      "...                         ...                   ...                   ...  \n",
      "82505                  2.285897              1.589847              7.763377  \n",
      "10406                  0.567958              0.630518              2.585360  \n",
      "82479                  0.566589              0.480549              2.273760  \n",
      "10228                  2.435070              1.244970              7.181010  \n",
      "10410                  2.290050              0.647072              2.282800  \n",
      "\n",
      "[186931 rows x 53 columns]\n"
     ]
    }
   ],
   "source": [
    "aa = pd.read_csv(\"./training/magn/19_magn.csv\")\n",
    "aa = aa.sort_values(by='magn@var',ascending = True)\n",
    "print(aa)"
   ]
  },
  {
   "cell_type": "code",
   "execution_count": null,
   "metadata": {},
   "outputs": [],
   "source": []
  }
 ],
 "metadata": {
  "kernelspec": {
   "display_name": "Python 3",
   "language": "python",
   "name": "python3"
  },
  "language_info": {
   "codemirror_mode": {
    "name": "ipython",
    "version": 3
   },
   "file_extension": ".py",
   "mimetype": "text/x-python",
   "name": "python",
   "nbconvert_exporter": "python",
   "pygments_lexer": "ipython3",
   "version": "3.8.3"
  }
 },
 "nbformat": 4,
 "nbformat_minor": 4
}
